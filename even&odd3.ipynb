{
 "cells": [
  {
   "cell_type": "code",
   "execution_count": 7,
   "id": "e98dcad3-1ebf-4645-976b-aca5f1e8258d",
   "metadata": {},
   "outputs": [
    {
     "name": "stdout",
     "output_type": "stream",
     "text": [
      "0 is even\n",
      "1 is odd\n",
      "2 is even\n",
      "3 is odd\n",
      "4 is even\n",
      "5 is odd\n",
      "6 is even\n",
      "7 is odd\n",
      "8 is even\n",
      "9 is odd\n"
     ]
    }
   ],
   "source": [
    "import numpy as np\n",
    "\n",
    "# define the perceptron function\n",
    "def perceptron(inputs, weights):\n",
    "    # calculate the dot product of the inputs and weights\n",
    "    dot_product = np.dot(inputs, weights)\n",
    "    # apply the activation function (threshold function)\n",
    "    if dot_product > 0:\n",
    "        return 1\n",
    "    else:\n",
    "        return 0\n",
    "         \n",
    "# define the training data\n",
    "training_data = {\n",
    "    '0': 0,\n",
    "    '1': 1,\n",
    "    '2': 0,\n",
    "    '3': 1,\n",
    "    '4': 0,\n",
    "    '5': 1,\n",
    "    '6': 0,\n",
    "    '7': 1,\n",
    "    '8': 0,\n",
    "    '9': 1,\n",
    "}\n",
    "\n",
    "# initialize the weights randomly\n",
    "weights = np.random.rand(7)\n",
    "\n",
    "# train the perceptron\n",
    "for i in range(10000):\n",
    "    for input, output in training_data.items():\n",
    "        # convert the input to a binary vector\n",
    "        binary_input = [int(b) for b in bin(ord(input))[2:].zfill(7)]\n",
    "        # calculate the output of the perceptron\n",
    "        perceptron_output = perceptron(binary_input, weights)\n",
    "        # update the weights using the perceptron learning rule\n",
    "        error = output - perceptron_output\n",
    "        weights += error * np.array(binary_input)\n",
    "\n",
    "# test the perceptron\n",
    "test_data = ['0', '1', '2', '3', '4', '5', '6', '7', '8', '9']\n",
    "for input in test_data:\n",
    "    # convert the input to a binary vector\n",
    "    binary_input = [int(b) for b in bin(ord(input))[2:].zfill(7)]\n",
    "    # calculate the output of the perceptron\n",
    "    perceptron_output = perceptron(binary_input, weights)\n",
    "    # print the result\n",
    "    if perceptron_output == 0:\n",
    "        print(f\"{input} is even\")\n",
    "    else:\n",
    "        print(f\"{input} is odd\")"
   ]
  },
  {
   "cell_type": "code",
   "execution_count": null,
   "id": "21465533-cff0-484f-acec-37e43c6d815f",
   "metadata": {},
   "outputs": [],
   "source": []
  }
 ],
 "metadata": {
  "kernelspec": {
   "display_name": "Python 3 (ipykernel)",
   "language": "python",
   "name": "python3"
  },
  "language_info": {
   "codemirror_mode": {
    "name": "ipython",
    "version": 3
   },
   "file_extension": ".py",
   "mimetype": "text/x-python",
   "name": "python",
   "nbconvert_exporter": "python",
   "pygments_lexer": "ipython3",
   "version": "3.9.13"
  }
 },
 "nbformat": 4,
 "nbformat_minor": 5
}
