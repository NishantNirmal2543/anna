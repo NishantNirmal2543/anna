{
 "cells": [
  {
   "cell_type": "code",
   "execution_count": 1,
   "id": "8b611307-d746-460f-85cb-d9f17b113fc0",
   "metadata": {},
   "outputs": [
    {
     "name": "stdout",
     "output_type": "stream",
     "text": [
      "[[0.02130532]\n",
      " [0.98114753]\n",
      " [0.98116378]\n",
      " [0.50049002]]\n"
     ]
    }
   ],
   "source": [
    "import numpy as np\n",
    "\n",
    "# Define the sigmoid activation function\n",
    "def sigmoid(x):\n",
    "    return 1 / (1 + np.exp(-x))\n",
    "\n",
    "# Define the derivative of the sigmoid activation function\n",
    "def sigmoid_derivative(x):\n",
    "    return x * (1 - x)\n",
    "\n",
    "# Set up the training data\n",
    "X = np.array([[0, 0], [0, 1], [1, 0], [1, 1]])\n",
    "y = np.array([[0], [1], [1], [0]])\n",
    "\n",
    "# Initialize the weights randomly\n",
    "np.random.seed(1)\n",
    "weights0 = 2 * np.random.random((2, 3)) - 1\n",
    "weights1 = 2 * np.random.random((3, 1)) - 1\n",
    "\n",
    "# Train the network using backpropagation\n",
    "for i in range(10000):\n",
    "    # Forward propagation\n",
    "    layer0 = X\n",
    "    layer1 = sigmoid(np.dot(layer0, weights0))\n",
    "    layer2 = sigmoid(np.dot(layer1, weights1))\n",
    "    \n",
    "    # Calculate the error\n",
    "    layer2_error = y - layer2\n",
    "    \n",
    "    # Backpropagation\n",
    "    layer2_delta = layer2_error * sigmoid_derivative(layer2)\n",
    "    layer1_error = layer2_delta.dot(weights1.T)\n",
    "    layer1_delta = layer1_error * sigmoid_derivative(layer1)\n",
    "    \n",
    "    # Update the weights\n",
    "    weights1 += layer1.T.dot(layer2_delta)\n",
    "    weights0 += layer0.T.dot(layer1_delta)\n",
    "\n",
    "# Print the final output\n",
    "print(layer2)\n"
   ]
  },
  {
   "cell_type": "code",
   "execution_count": null,
   "id": "8e8a93ae-8476-403c-bdb3-4b1006303a51",
   "metadata": {},
   "outputs": [],
   "source": []
  }
 ],
 "metadata": {
  "kernelspec": {
   "display_name": "Python 3 (ipykernel)",
   "language": "python",
   "name": "python3"
  },
  "language_info": {
   "codemirror_mode": {
    "name": "ipython",
    "version": 3
   },
   "file_extension": ".py",
   "mimetype": "text/x-python",
   "name": "python",
   "nbconvert_exporter": "python",
   "pygments_lexer": "ipython3",
   "version": "3.9.13"
  }
 },
 "nbformat": 4,
 "nbformat_minor": 5
}
