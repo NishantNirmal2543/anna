{
 "cells": [
  {
   "cell_type": "code",
   "execution_count": 4,
   "id": "f962cdd2-54d8-4adf-bf84-ccfe120fed2c",
   "metadata": {},
   "outputs": [
    {
     "name": "stdout",
     "output_type": "stream",
     "text": [
      "1\n",
      "1\n",
      "1\n",
      "0\n"
     ]
    }
   ],
   "source": [
    "def mcculloch_pitts(inputs, weights, threshold):\n",
    "    \"\"\"McCulloch-Pitts Neuron Model\"\"\"\n",
    "    if sum(x * w for x, w in zip(inputs, weights)) >= threshold:\n",
    "        return 1\n",
    "    else:\n",
    "        return 0\n",
    "\n",
    "def andnot_gate(x1, x2):\n",
    "    \"\"\"ANDNOT Gate\"\"\"\n",
    "    # Define the weights and threshold for the McCulloch-Pitts neuron\n",
    "    weights = [-1, -1]\n",
    "    threshold = -1\n",
    "\n",
    "    # Encode the inputs\n",
    "    inputs = [x1, x2]\n",
    "\n",
    "    # Compute the output using the McCulloch-Pitts neuron model\n",
    "    output = mcculloch_pitts(inputs, weights, threshold)\n",
    "\n",
    "    return output\n",
    "\n",
    "# Test the ANDNOT gate\n",
    "print(andnot_gate(0, 0))  # Output: 1\n",
    "print(andnot_gate(0, 1))  # Output: 1\n",
    "print(andnot_gate(1, 0))  # Output: 1\n",
    "print(andnot_gate(1, 1))  # Output: 0"
   ]
  },
  {
   "cell_type": "code",
   "execution_count": null,
   "id": "04a13602-e472-449f-be5d-43acef7bef47",
   "metadata": {},
   "outputs": [],
   "source": []
  }
 ],
 "metadata": {
  "kernelspec": {
   "display_name": "Python 3 (ipykernel)",
   "language": "python",
   "name": "python3"
  },
  "language_info": {
   "codemirror_mode": {
    "name": "ipython",
    "version": 3
   },
   "file_extension": ".py",
   "mimetype": "text/x-python",
   "name": "python",
   "nbconvert_exporter": "python",
   "pygments_lexer": "ipython3",
   "version": "3.9.13"
  }
 },
 "nbformat": 4,
 "nbformat_minor": 5
}
