{
 "cells": [
  {
   "cell_type": "code",
   "execution_count": 10,
   "id": "6acca167-551a-4742-8658-5e74f9631f85",
   "metadata": {},
   "outputs": [
    {
     "name": "stdout",
     "output_type": "stream",
     "text": [
      "Input: [0, 0], Output: 0\n",
      "Input: [0, 1], Output: 0\n",
      "Input: [1, 0], Output: 1\n",
      "Input: [1, 1], Output: 0\n"
     ]
    }
   ],
   "source": [
    "class McCullochPittsNeuron:\n",
    "    def __init__(self, weights, threshold):\n",
    "        self.weights = weights\n",
    "        self.threshold = threshold\n",
    "\n",
    "    def activate(self, inputs):\n",
    "        # Compute the weighted sum of inputs\n",
    "        weighted_sum = sum(w * x for w, x in zip(self.weights, inputs))\n",
    "\n",
    "        # Apply thresholding function\n",
    "        if weighted_sum >= self.threshold:\n",
    "            return 1\n",
    "        else:\n",
    "            return 0\n",
    "\n",
    "\n",
    "def main():\n",
    "    # Define the weights and threshold for the ANDNOT function\n",
    "    weights = [1, -1]  # A: 1, B: -1\n",
    "    threshold = 1\n",
    "\n",
    "    # Create an instance of the McCulloch-Pitts neuron\n",
    "    neuron = McCullochPittsNeuron(weights, threshold)\n",
    "\n",
    "    # Test the ANDNOT function\n",
    "    inputs = [\n",
    "        [0, 0],  # A=0, B=0\n",
    "        [0, 1],  # A=1, B=0\n",
    "        [1, 0],  # A=0, B=1\n",
    "        [1, 1]   # A=1, B=1\n",
    "    ]\n",
    "\n",
    "    for input_pair in inputs:\n",
    "        output = neuron.activate(input_pair)\n",
    "        print(f\"Input: {input_pair}, Output: {output}\")\n",
    "\n",
    "\n",
    "if __name__ == '__main__':\n",
    "    main()\n"
   ]
  },
  {
   "cell_type": "code",
   "execution_count": null,
   "id": "9634940c-aef9-4b23-bd67-a25994163b03",
   "metadata": {},
   "outputs": [],
   "source": []
  }
 ],
 "metadata": {
  "kernelspec": {
   "display_name": "Python 3 (ipykernel)",
   "language": "python",
   "name": "python3"
  },
  "language_info": {
   "codemirror_mode": {
    "name": "ipython",
    "version": 3
   },
   "file_extension": ".py",
   "mimetype": "text/x-python",
   "name": "python",
   "nbconvert_exporter": "python",
   "pygments_lexer": "ipython3",
   "version": "3.9.13"
  }
 },
 "nbformat": 4,
 "nbformat_minor": 5
}
