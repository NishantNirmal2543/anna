{
 "cells": [
  {
   "cell_type": "code",
   "execution_count": 19,
   "id": "7c71143c-9ecd-4ec9-a033-ff81ac50a3f6",
   "metadata": {},
   "outputs": [
    {
     "name": "stdout",
     "output_type": "stream",
     "text": [
      "Predicted Outputs:\n",
      "[0 0] --> [0.25837323]\n",
      "[0 1] --> [0.69141587]\n",
      "[1 0] --> [0.69132956]\n",
      "[1 1] --> [0.39870372]\n"
     ]
    }
   ],
   "source": [
    "import numpy as np\n",
    "\n",
    "# Define the sigmoid activation function\n",
    "def sigmoid(x):\n",
    "    return 1 / (1 + np.exp(-x))\n",
    "\n",
    "# Define the derivative of the sigmoid function\n",
    "def sigmoid_derivative(x):\n",
    "    return x * (1 - x)\n",
    "\n",
    "# Define the XOR function input and output\n",
    "X = np.array([[0, 0], [0, 1], [1, 0], [1, 1]])\n",
    "y = np.array([[0], [1], [1], [0]])\n",
    "\n",
    "# Define the neural network architecture\n",
    "input_dim = 2\n",
    "hidden_dim = 2\n",
    "output_dim = 1\n",
    "\n",
    "# Initialize the weights with random values\n",
    "np.random.seed(1)\n",
    "hidden_weights = np.random.uniform(size=(input_dim, hidden_dim))\n",
    "output_weights = np.random.uniform(size=(hidden_dim, output_dim))\n",
    "\n",
    "# Set the learning rate and number of iterations\n",
    "learning_rate = 0.1\n",
    "num_iterations = 10000\n",
    "\n",
    "# Perform training with backpropagation\n",
    "for i in range(num_iterations):\n",
    "    # Forward propagation\n",
    "    hidden_layer_output = sigmoid(np.dot(X, hidden_weights))\n",
    "    output_layer_output = sigmoid(np.dot(hidden_layer_output, output_weights))\n",
    "\n",
    "    # Backpropagation\n",
    "    output_error = y - output_layer_output\n",
    "    output_delta = output_error * sigmoid_derivative(output_layer_output)\n",
    "\n",
    "    hidden_error = output_delta.dot(output_weights.T)\n",
    "    hidden_delta = hidden_error * sigmoid_derivative(hidden_layer_output)\n",
    "\n",
    "    # Update the weights\n",
    "    output_weights += hidden_layer_output.T.dot(output_delta) * learning_rate\n",
    "    hidden_weights += X.T.dot(hidden_delta) * learning_rate\n",
    "\n",
    "# Test the neural network\n",
    "hidden_layer_output = sigmoid(np.dot(X, hidden_weights))\n",
    "output_layer_output = sigmoid(np.dot(hidden_layer_output, output_weights))\n",
    "\n",
    "# Print the predicted outputs\n",
    "print(\"Predicted Outputs:\")\n",
    "for i in range(len(X)):\n",
    "    print(X[i], \"-->\", output_layer_output[i])\n"
   ]
  },
  {
   "cell_type": "code",
   "execution_count": null,
   "id": "04256c48-fd17-42c0-91bd-89376a3ed644",
   "metadata": {},
   "outputs": [],
   "source": []
  }
 ],
 "metadata": {
  "kernelspec": {
   "display_name": "Python 3 (ipykernel)",
   "language": "python",
   "name": "python3"
  },
  "language_info": {
   "codemirror_mode": {
    "name": "ipython",
    "version": 3
   },
   "file_extension": ".py",
   "mimetype": "text/x-python",
   "name": "python",
   "nbconvert_exporter": "python",
   "pygments_lexer": "ipython3",
   "version": "3.9.13"
  }
 },
 "nbformat": 4,
 "nbformat_minor": 5
}
