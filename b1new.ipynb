{
 "cells": [
  {
   "cell_type": "code",
   "execution_count": 1,
   "id": "1e87a9e6-3a22-4616-a3e2-51a17b52b012",
   "metadata": {},
   "outputs": [
    {
     "name": "stdout",
     "output_type": "stream",
     "text": [
      "Epoch 0: Loss 0.8725511895307583\n",
      "Epoch 5000: Loss 0.026277935522086827\n",
      "Epoch 10000: Loss 0.017237069617715314\n",
      "Epoch 15000: Loss 0.013684583220941479\n",
      "Epoch 20000: Loss 0.011669435992336784\n",
      "Epoch 25000: Loss 0.01033299864828558\n",
      "Epoch 30000: Loss 0.009365096893987802\n",
      "Epoch 35000: Loss 0.008623155665348624\n",
      "Epoch 40000: Loss 0.00803138014781044\n",
      "Epoch 45000: Loss 0.0075453093964910935\n",
      "\n",
      "Trained XOR neural network outputs:\n",
      "Input: [0 0] -> Output: [0.00799187]\n",
      "Input: [0 1] -> Output: [0.99323485]\n",
      "Input: [1 0] -> Output: [0.99322976]\n",
      "Input: [1 1] -> Output: [0.00691861]\n"
     ]
    }
   ],
   "source": [
    "import numpy as np\n",
    "\n",
    "def sigmoid(x):\n",
    "    return 1 / (1 + np.exp(-x))\n",
    "\n",
    "def sigmoid_derivative(x):\n",
    "    return x * (1 - x)\n",
    "\n",
    "def binary_cross_entropy(y_true, y_pred):\n",
    "    return -np.mean(y_true * np.log(y_pred) + (1 - y_true) * np.log(1 - y_pred))\n",
    "\n",
    "# XOR input and output data\n",
    "inputs = np.array([[0, 0], [0, 1], [1, 0], [1, 1]])\n",
    "outputs = np.array([[0], [1], [1], [0]])\n",
    "\n",
    "# Initialize weights and biases\n",
    "np.random.seed(42)\n",
    "input_layer_neurons = 2\n",
    "hidden_layer_neurons = 2\n",
    "output_layer_neurons = 1\n",
    "\n",
    "hidden_weights = np.random.uniform(size=(input_layer_neurons, hidden_layer_neurons))\n",
    "hidden_bias = np.random.uniform(size=(1, hidden_layer_neurons))\n",
    "output_weights = np.random.uniform(size=(hidden_layer_neurons, output_layer_neurons))\n",
    "output_bias = np.random.uniform(size=(1, output_layer_neurons))\n",
    "\n",
    "# Hyperparameters\n",
    "learning_rate = 0.5\n",
    "epochs = 50000\n",
    "\n",
    "# Training the network\n",
    "for epoch in range(epochs):\n",
    "    # Forward pass\n",
    "    hidden_layer_input = np.dot(inputs, hidden_weights) + hidden_bias\n",
    "    hidden_layer_output = sigmoid(hidden_layer_input)\n",
    "    output_layer_input = np.dot(hidden_layer_output, output_weights) + output_bias\n",
    "    predictions = sigmoid(output_layer_input)\n",
    "\n",
    "    # Compute the error\n",
    "    error = outputs - predictions\n",
    "\n",
    "    # Backpropagation\n",
    "    output_delta = error * sigmoid_derivative(predictions)\n",
    "    hidden_delta = output_delta.dot(output_weights.T) * sigmoid_derivative(hidden_layer_output)\n",
    "\n",
    "    # Update weights and biases\n",
    "    output_weights += hidden_layer_output.T.dot(output_delta) * learning_rate\n",
    "    output_bias += np.sum(output_delta, axis=0, keepdims=True) * learning_rate\n",
    "    hidden_weights += inputs.T.dot(hidden_delta) * learning_rate\n",
    "    hidden_bias += np.sum(hidden_delta, axis=0, keepdims=True) * learning_rate\n",
    "\n",
    "    # Print loss at every 5000 epochs\n",
    "    if epoch % 5000 == 0:\n",
    "        loss = binary_cross_entropy(outputs, predictions)\n",
    "        print(f\"Epoch {epoch}: Loss {loss}\")\n",
    "\n",
    "# Test the trained network\n",
    "print(\"\\nTrained XOR neural network outputs:\")\n",
    "for i in range(len(inputs)):\n",
    "    print(f\"Input: {inputs[i]} -> Output: {predictions[i]}\")\n"
   ]
  },
  {
   "cell_type": "code",
   "execution_count": null,
   "id": "89b78054-a19b-46b0-9a82-120ef0bb6df5",
   "metadata": {},
   "outputs": [],
   "source": []
  }
 ],
 "metadata": {
  "kernelspec": {
   "display_name": "Python 3 (ipykernel)",
   "language": "python",
   "name": "python3"
  },
  "language_info": {
   "codemirror_mode": {
    "name": "ipython",
    "version": 3
   },
   "file_extension": ".py",
   "mimetype": "text/x-python",
   "name": "python",
   "nbconvert_exporter": "python",
   "pygments_lexer": "ipython3",
   "version": "3.9.13"
  }
 },
 "nbformat": 4,
 "nbformat_minor": 5
}
