{
 "cells": [
  {
   "cell_type": "code",
   "execution_count": 1,
   "id": "e9607bb4-c827-43fd-a112-7decd843478d",
   "metadata": {},
   "outputs": [
    {
     "name": "stdout",
     "output_type": "stream",
     "text": [
      "Epoch 0: Cost = 0.2640995223089507\n",
      "Epoch 100: Cost = 0.2472296983425239\n",
      "Epoch 200: Cost = 0.24646677546101747\n",
      "Epoch 300: Cost = 0.2455820947655612\n",
      "Epoch 400: Cost = 0.24454391303113096\n",
      "Epoch 500: Cost = 0.24331601049922286\n",
      "Epoch 600: Cost = 0.2418556116289475\n",
      "Epoch 700: Cost = 0.24011285780473257\n",
      "Epoch 800: Cost = 0.23803205285323134\n",
      "Epoch 900: Cost = 0.23555605567382049\n",
      "Predictions: [[0.42374991 0.52416073 0.53139822 0.55223759]]\n"
     ]
    }
   ],
   "source": [
    "import numpy as np\n",
    "\n",
    "class NeuralNetwork:\n",
    "    def __init__(self, layers):\n",
    "        self.layers = layers\n",
    "        self.num_layers = len(layers)\n",
    "        self.weights = [np.random.randn(y, x) for x, y in zip(layers[:-1], layers[1:])]\n",
    "        self.biases = [np.random.randn(y, 1) for y in layers[1:]]\n",
    "\n",
    "    def sigmoid(self, z):\n",
    "        return 1.0 / (1.0 + np.exp(-z))\n",
    "\n",
    "    def sigmoid_derivative(self, z):\n",
    "        return self.sigmoid(z) * (1 - self.sigmoid(z))\n",
    "\n",
    "    def forward_propagation(self, X):\n",
    "        activations = [X]\n",
    "        zs = []\n",
    "        a = X\n",
    "\n",
    "        for w, b in zip(self.weights, self.biases):\n",
    "            z = np.dot(w, a) + b\n",
    "            zs.append(z)\n",
    "            a = self.sigmoid(z)\n",
    "            activations.append(a)\n",
    "\n",
    "        return activations, zs\n",
    "\n",
    "    def back_propagation(self, X, y, activations, zs):\n",
    "        m = y.shape[1]\n",
    "        gradients_w = [np.zeros(w.shape) for w in self.weights]\n",
    "        gradients_b = [np.zeros(b.shape) for b in self.biases]\n",
    "\n",
    "        delta = activations[-1] - y\n",
    "        gradients_w[-1] = np.dot(delta, activations[-2].T) / m\n",
    "        gradients_b[-1] = np.sum(delta, axis=1, keepdims=True) / m\n",
    "\n",
    "        for l in range(2, self.num_layers):\n",
    "            delta = np.dot(self.weights[-l + 1].T, delta) * self.sigmoid_derivative(zs[-l])\n",
    "            gradients_w[-l] = np.dot(delta, activations[-l - 1].T) / m\n",
    "            gradients_b[-l] = np.sum(delta, axis=1, keepdims=True) / m\n",
    "\n",
    "        return gradients_w, gradients_b\n",
    "\n",
    "    def train(self, X, y, epochs, learning_rate):\n",
    "        for epoch in range(epochs):\n",
    "            activations, zs = self.forward_propagation(X)\n",
    "            gradients_w, gradients_b = self.back_propagation(X, y, activations, zs)\n",
    "\n",
    "            self.weights = [w - learning_rate * gw for w, gw in zip(self.weights, gradients_w)]\n",
    "            self.biases = [b - learning_rate * gb for b, gb in zip(self.biases, gradients_b)]\n",
    "\n",
    "            if epoch % 100 == 0:\n",
    "                cost = np.mean(np.square(activations[-1] - y))\n",
    "                print(f\"Epoch {epoch}: Cost = {cost}\")\n",
    "\n",
    "    def predict(self, X):\n",
    "        activations, _ = self.forward_propagation(X)\n",
    "        return activations[-1]\n",
    "\n",
    "# Example usage\n",
    "X = np.array([[0, 0], [0, 1], [1, 0], [1, 1]]).T\n",
    "y = np.array([[0, 1, 1, 0]])\n",
    "\n",
    "nn = NeuralNetwork([2, 2, 1])  # 2 input neurons, 2 hidden neurons, 1 output neuron\n",
    "nn.train(X, y, epochs=1000, learning_rate=0.1)\n",
    "\n",
    "predictions = nn.predict(X)\n",
    "print(\"Predictions:\", predictions)\n"
   ]
  },
  {
   "cell_type": "code",
   "execution_count": null,
   "id": "afdc2902-19e2-4e07-85dd-6a7d57dd0087",
   "metadata": {},
   "outputs": [],
   "source": []
  }
 ],
 "metadata": {
  "kernelspec": {
   "display_name": "Python 3 (ipykernel)",
   "language": "python",
   "name": "python3"
  },
  "language_info": {
   "codemirror_mode": {
    "name": "ipython",
    "version": 3
   },
   "file_extension": ".py",
   "mimetype": "text/x-python",
   "name": "python",
   "nbconvert_exporter": "python",
   "pygments_lexer": "ipython3",
   "version": "3.9.13"
  }
 },
 "nbformat": 4,
 "nbformat_minor": 5
}
