{
 "cells": [
  {
   "cell_type": "code",
   "execution_count": 2,
   "id": "c8f7befe-d9fe-4a1a-b197-da76eaff613c",
   "metadata": {},
   "outputs": [
    {
     "name": "stdout",
     "output_type": "stream",
     "text": [
      "[[0.0311073 ]\n",
      " [0.95516237]\n",
      " [0.95684873]\n",
      " [0.05179466]]\n"
     ]
    }
   ],
   "source": [
    "import numpy as np\n",
    "\n",
    "class NeuralNetwork:\n",
    "    def __init__(self, input_size, hidden_size, output_size):\n",
    "        self.input_size = input_size\n",
    "        self.hidden_size = hidden_size\n",
    "        self.output_size = output_size\n",
    "        \n",
    "        # Initialize weights with random values\n",
    "        self.weights1 = np.random.randn(self.input_size, self.hidden_size)\n",
    "        self.weights2 = np.random.randn(self.hidden_size, self.output_size)\n",
    "        \n",
    "        # Initialize biases with zeros\n",
    "        self.bias1 = np.zeros((1, self.hidden_size))\n",
    "        self.bias2 = np.zeros((1, self.output_size))\n",
    "        \n",
    "    def sigmoid(self, x):\n",
    "        return 1 / (1 + np.exp(-x))\n",
    "    \n",
    "    def sigmoid_derivative(self, x):\n",
    "        return x * (1 - x)\n",
    "    \n",
    "    def forward_propagation(self, X):\n",
    "        self.hidden_layer = self.sigmoid(np.dot(X, self.weights1) + self.bias1)\n",
    "        self.output_layer = self.sigmoid(np.dot(self.hidden_layer, self.weights2) + self.bias2)\n",
    "        \n",
    "    def backward_propagation(self, X, y, learning_rate):\n",
    "        # Calculate the gradients\n",
    "        delta2 = (y - self.output_layer) * self.sigmoid_derivative(self.output_layer)\n",
    "        d_weights2 = np.dot(self.hidden_layer.T, delta2)\n",
    "        d_bias2 = np.sum(delta2, axis=0, keepdims=True)\n",
    "        \n",
    "        delta1 = np.dot(delta2, self.weights2.T) * self.sigmoid_derivative(self.hidden_layer)\n",
    "        d_weights1 = np.dot(X.T, delta1)\n",
    "        d_bias1 = np.sum(delta1, axis=0)\n",
    "        \n",
    "        # Update the weights and biases\n",
    "        self.weights2 += learning_rate * d_weights2\n",
    "        self.bias2 += learning_rate * d_bias2\n",
    "        self.weights1 += learning_rate * d_weights1\n",
    "        self.bias1 += learning_rate * d_bias1\n",
    "    \n",
    "    def train(self, X, y, epochs, learning_rate):\n",
    "        for epoch in range(epochs):\n",
    "            self.forward_propagation(X)\n",
    "            self.backward_propagation(X, y, learning_rate)\n",
    "            \n",
    "    def predict(self, X):\n",
    "        self.forward_propagation(X)\n",
    "        return self.output_layer\n",
    "\n",
    "# Example usage\n",
    "X = np.array([[0, 0], [0, 1], [1, 0], [1, 1]])\n",
    "y = np.array([[0], [1], [1], [0]])\n",
    "\n",
    "# Create a neural network with 2 input neurons, 4 hidden neurons, and 1 output neuron\n",
    "nn = NeuralNetwork(2, 4, 1)\n",
    "\n",
    "# Train the neural network\n",
    "nn.train(X, y, epochs=10000, learning_rate=0.1)\n",
    "\n",
    "# Predict the output for a new input\n",
    "new_input = np.array([[0, 0]])\n",
    "output = nn.predict(X)\n",
    "print(output)\n"
   ]
  },
  {
   "cell_type": "code",
   "execution_count": null,
   "id": "e26d2745-b49a-44c5-b5e4-f290c5a6e7a3",
   "metadata": {},
   "outputs": [],
   "source": []
  }
 ],
 "metadata": {
  "kernelspec": {
   "display_name": "Python 3 (ipykernel)",
   "language": "python",
   "name": "python3"
  },
  "language_info": {
   "codemirror_mode": {
    "name": "ipython",
    "version": 3
   },
   "file_extension": ".py",
   "mimetype": "text/x-python",
   "name": "python",
   "nbconvert_exporter": "python",
   "pygments_lexer": "ipython3",
   "version": "3.9.13"
  }
 },
 "nbformat": 4,
 "nbformat_minor": 5
}
