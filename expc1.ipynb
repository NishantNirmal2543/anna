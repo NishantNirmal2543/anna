{
 "cells": [
  {
   "cell_type": "code",
   "execution_count": 7,
   "id": "2fc800fe-60c6-4003-9bf0-8af34827384f",
   "metadata": {},
   "outputs": [
    {
     "name": "stdout",
     "output_type": "stream",
     "text": [
      "Epoch 1/10\n",
      "1875/1875 [==============================] - 3s 1ms/step - loss: 0.4156 - accuracy: 0.8850 - val_loss: 0.3093 - val_accuracy: 0.9126\n",
      "Epoch 2/10\n",
      "1875/1875 [==============================] - 3s 2ms/step - loss: 0.3141 - accuracy: 0.9118 - val_loss: 0.2895 - val_accuracy: 0.9182\n",
      "Epoch 3/10\n",
      "1875/1875 [==============================] - 3s 2ms/step - loss: 0.2976 - accuracy: 0.9161 - val_loss: 0.2811 - val_accuracy: 0.9222\n",
      "Epoch 4/10\n",
      "1875/1875 [==============================] - 3s 2ms/step - loss: 0.2884 - accuracy: 0.9192 - val_loss: 0.2773 - val_accuracy: 0.9220\n",
      "Epoch 5/10\n",
      "1875/1875 [==============================] - 3s 2ms/step - loss: 0.2821 - accuracy: 0.9212 - val_loss: 0.2739 - val_accuracy: 0.9222\n",
      "Epoch 6/10\n",
      "1875/1875 [==============================] - 3s 2ms/step - loss: 0.2776 - accuracy: 0.9230 - val_loss: 0.2784 - val_accuracy: 0.9219\n",
      "Epoch 7/10\n",
      "1875/1875 [==============================] - 4s 2ms/step - loss: 0.2743 - accuracy: 0.9234 - val_loss: 0.2737 - val_accuracy: 0.9231\n",
      "Epoch 8/10\n",
      "1875/1875 [==============================] - 4s 2ms/step - loss: 0.2714 - accuracy: 0.9245 - val_loss: 0.2768 - val_accuracy: 0.9229\n",
      "Epoch 9/10\n",
      "1875/1875 [==============================] - 5s 2ms/step - loss: 0.2692 - accuracy: 0.9248 - val_loss: 0.2700 - val_accuracy: 0.9245\n",
      "Epoch 10/10\n",
      "1875/1875 [==============================] - 8s 4ms/step - loss: 0.2674 - accuracy: 0.9257 - val_loss: 0.2697 - val_accuracy: 0.9224\n",
      "Training finished.\n",
      "313/313 [==============================] - 1s 3ms/step - loss: 0.2697 - accuracy: 0.9224\n",
      "Test accuracy: 0.9223999977111816\n"
     ]
    }
   ],
   "source": [
    "import tensorflow as tf\n",
    "\n",
    "# Load the data\n",
    "(x_train, y_train), (x_test, y_test) = tf.keras.datasets.mnist.load_data()\n",
    "\n",
    "# Preprocess the data\n",
    "x_train = x_train.reshape(-1, 784).astype('float32') / 255.0\n",
    "x_test = x_test.reshape(-1, 784).astype('float32') / 255.0\n",
    "\n",
    "# Define the model architecture\n",
    "model = tf.keras.models.Sequential([\n",
    "    tf.keras.layers.Dense(10, activation='softmax', input_shape=(784,))\n",
    "])\n",
    "\n",
    "# Define the optimizer and loss function\n",
    "optimizer = tf.keras.optimizers.SGD(learning_rate=0.1)\n",
    "loss_fn = tf.keras.losses.SparseCategoricalCrossentropy()\n",
    "\n",
    "# Compile the model\n",
    "model.compile(optimizer=optimizer, loss=loss_fn, metrics=['accuracy'])\n",
    "\n",
    "# Train the model\n",
    "model.fit(x_train, y_train, epochs=10, validation_data=(x_test, y_test))\n",
    "print(\"Training finished.\")\n",
    "\n",
    "# Evaluate the model\n",
    "test_loss, test_acc = model.evaluate(x_test, y_test)\n",
    "print('Test accuracy:', test_acc)\n"
   ]
  },
  {
   "cell_type": "code",
   "execution_count": null,
   "id": "bbad9014-f9cb-4311-8e61-5b02cd3e8e01",
   "metadata": {},
   "outputs": [],
   "source": []
  }
 ],
 "metadata": {
  "kernelspec": {
   "display_name": "Python 3 (ipykernel)",
   "language": "python",
   "name": "python3"
  },
  "language_info": {
   "codemirror_mode": {
    "name": "ipython",
    "version": 3
   },
   "file_extension": ".py",
   "mimetype": "text/x-python",
   "name": "python",
   "nbconvert_exporter": "python",
   "pygments_lexer": "ipython3",
   "version": "3.9.13"
  }
 },
 "nbformat": 4,
 "nbformat_minor": 5
}
