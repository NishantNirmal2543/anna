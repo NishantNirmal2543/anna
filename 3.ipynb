{
 "cells": [
  {
   "cell_type": "code",
   "execution_count": 3,
   "id": "e34747bb-2872-4146-930f-ce511ef9f6f9",
   "metadata": {},
   "outputs": [
    {
     "name": "stdout",
     "output_type": "stream",
     "text": [
      "ASCII 48 is even\n",
      "ASCII 53 i.e 5 is odd\n",
      "ASCII 55 i.e 7 is odd\n",
      "ASCII 50 is even\n"
     ]
    }
   ],
   "source": [
    "import numpy as np\n",
    "\n",
    "# Training data\n",
    "training_data = [\n",
    "    (48, 0),   # '0' (even)\n",
    "    (49, 1),   # '1' (odd)\n",
    "    (50, 0),   # '2' (even)\n",
    "    (51, 1),   # '3' (odd)\n",
    "    (52, 0),   # '4' (even)\n",
    "    (53, 1),   # '5' (odd)\n",
    "    (54, 0),   # '6' (even)\n",
    "    (55, 1),   # '7' (odd)\n",
    "    (56, 0),   # '8' (even)\n",
    "    (57, 1)    # '9' (odd)\n",
    "]\n",
    "\n",
    "# Perceptron class\n",
    "class Perceptron:\n",
    "    def __init__(self):\n",
    "     self.weights = np.zeros(7)\n",
    "     self.bias = 0\n",
    "\n",
    "\n",
    "    def train(self, X, y, learning_rate=0.1, epochs=100):\n",
    "        # print(\"reahced here\")\n",
    "        for _ in range(epochs):\n",
    "            for input_value, target in zip(X, y):\n",
    "                prediction = self.predict(input_value)\n",
    "                self.weights += learning_rate * (target - prediction) * input_value\n",
    "                self.bias += learning_rate * (target - prediction)\n",
    "\n",
    "    def predict(self, X):\n",
    "        summation = np.dot(self.weights, X) + self.bias\n",
    "        return int(summation >= 0)\n",
    "\n",
    "# Create and train the perceptron\n",
    "perceptron = Perceptron()\n",
    "X_train = [np.array(list(np.binary_repr(data[0], width=7))).astype(int) for data in training_data]\n",
    "y_train = [data[1] for data in training_data]\n",
    "perceptron.train(X_train, y_train)\n",
    "\n",
    "# Test the perceptron\n",
    "test_data = [48, 53, 55, 50]  # Test numbers: '0', '5', '7', '2'\n",
    "\n",
    "for number in test_data:\n",
    "    Dnum = chr(number)\n",
    "    binary_number = np.array(list(np.binary_repr(number, width=7))).astype(int)\n",
    "    prediction = perceptron.predict(binary_number)\n",
    "    if prediction == 1:\n",
    "        print(f\"ASCII {number} i.e {Dnum} is odd\")\n",
    "    else:\n",
    "        print(f\"ASCII {number} is even\")"
   ]
  },
  {
   "cell_type": "code",
   "execution_count": null,
   "id": "c92b1ade-7543-488e-98a3-41e60918b9cd",
   "metadata": {},
   "outputs": [],
   "source": []
  }
 ],
 "metadata": {
  "kernelspec": {
   "display_name": "Python 3 (ipykernel)",
   "language": "python",
   "name": "python3"
  },
  "language_info": {
   "codemirror_mode": {
    "name": "ipython",
    "version": 3
   },
   "file_extension": ".py",
   "mimetype": "text/x-python",
   "name": "python",
   "nbconvert_exporter": "python",
   "pygments_lexer": "ipython3",
   "version": "3.9.13"
  }
 },
 "nbformat": 4,
 "nbformat_minor": 5
}
