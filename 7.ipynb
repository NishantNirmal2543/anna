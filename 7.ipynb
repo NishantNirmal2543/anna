{
 "cells": [
  {
   "cell_type": "code",
   "execution_count": 11,
   "id": "65e91d12-92e3-48b9-b4c8-6f2e1b0ec568",
   "metadata": {},
   "outputs": [
    {
     "name": "stdout",
     "output_type": "stream",
     "text": [
      "Error: 0.4964100319027255\n",
      "Error: 0.042888017000115755\n",
      "Error: 0.024098994228521606\n",
      "Error: 0.018110652146797846\n",
      "Error: 0.014987616272210916\n",
      "Error: 0.013014490538142583\n"
     ]
    }
   ],
   "source": [
    "import numpy as np\n",
    "\n",
    "def sigmoid(x):\n",
    "    \"\"\"sigmoid activation function\"\"\"\n",
    "    return 1/(1+np.exp(-x))\n",
    "\n",
    "def sigmoid_derivative(x):\n",
    "    \"\"\"derivative of sigmoid activation function\"\"\"\n",
    "    return x*(1-x)\n",
    "\n",
    "# input dataset\n",
    "X = np.array([[0,0,1],\n",
    "              [0,1,1],\n",
    "              [1,0,1],\n",
    "              [1,1,1]])\n",
    "\n",
    "# output dataset\n",
    "y = np.array([[0],\n",
    "              [1],\n",
    "              [1],\n",
    "              [0]])\n",
    "\n",
    "# set random seed\n",
    "np.random.seed(1)\n",
    "\n",
    "# initialize weights randomly with mean 0\n",
    "syn0 = 2*np.random.random((3,4)) - 1\n",
    "syn1 = 2*np.random.random((4,1)) - 1\n",
    "\n",
    "def forward_propagation(X, syn0, syn1):\n",
    "    \"\"\"forward propagation function\"\"\"\n",
    "    layer0 = X\n",
    "    layer1 = sigmoid(np.dot(layer0, syn0))\n",
    "    layer2 = sigmoid(np.dot(layer1, syn1))\n",
    "    return layer0, layer1, layer2\n",
    "\n",
    "def back_propagation(layer0, layer1, layer2, y, syn1, syn0, learning_rate):\n",
    "    \"\"\"back propagation function\"\"\"\n",
    "    layer2_error = y - layer2\n",
    "    layer2_delta = layer2_error * sigmoid_derivative(layer2)\n",
    "    layer1_error = layer2_delta.dot(syn1.T)\n",
    "    layer1_delta = layer1_error * sigmoid_derivative(layer1)\n",
    "    syn1 += learning_rate * layer1.T.dot(layer2_delta)\n",
    "    syn0 += learning_rate * layer0.T.dot(layer1_delta)\n",
    "    return syn0, syn1, layer2_error\n",
    "\n",
    "# set learning rate and number of iterations\n",
    "learning_rate = 0.1\n",
    "iterations = 60000\n",
    "\n",
    "for i in range(iterations):\n",
    "    # forward propagation\n",
    "    layer0, layer1, layer2 = forward_propagation(X, syn0, syn1)\n",
    "\n",
    "    # back propagation\n",
    "    syn0, syn1, layer2_error = back_propagation(layer0, layer1, layer2, y, syn1, syn0, learning_rate)\n",
    "\n",
    "    # print error every 10000 iterations\n",
    "    if i % 10000 == 0:\n",
    "        print(\"Error: \" + str(np.mean(np.abs(layer2_error))))\n"
   ]
  },
  {
   "cell_type": "code",
   "execution_count": null,
   "id": "24d8c0e3-6855-4b41-a8c4-f62b554ea3b3",
   "metadata": {},
   "outputs": [],
   "source": []
  }
 ],
 "metadata": {
  "kernelspec": {
   "display_name": "Python 3 (ipykernel)",
   "language": "python",
   "name": "python3"
  },
  "language_info": {
   "codemirror_mode": {
    "name": "ipython",
    "version": 3
   },
   "file_extension": ".py",
   "mimetype": "text/x-python",
   "name": "python",
   "nbconvert_exporter": "python",
   "pygments_lexer": "ipython3",
   "version": "3.9.13"
  }
 },
 "nbformat": 4,
 "nbformat_minor": 5
}
