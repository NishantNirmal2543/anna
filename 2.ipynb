{
 "cells": [
  {
   "cell_type": "code",
   "execution_count": 4,
   "id": "4e5f2f25-01c8-4ea4-ae5a-696b70397564",
   "metadata": {},
   "outputs": [
    {
     "name": "stdout",
     "output_type": "stream",
     "text": [
      "1\n"
     ]
    }
   ],
   "source": [
    "def mp_neuron(x, w, theta):\n",
    "    # Calculate the net input\n",
    "    net_input = sum([x[i]*w[i] for i in range(len(x))])\n",
    "    # Apply the activation function (Heaviside step function)\n",
    "    if net_input >= theta:\n",
    "        return 1\n",
    "    else:\n",
    "        return 0\n",
    "\n",
    "# Define the NAND function\n",
    "def nand(x1, x2):\n",
    "    # Set the weights and threshold\n",
    "    w1, w2, theta = -2, -2, -3\n",
    "    # Input the values into the McCulloch-Pitts neuron\n",
    "    x = [x1, x2]\n",
    "    output = mp_neuron(x, [w1, w2], theta)\n",
    "    return output\n",
    "print(nand(1, 0))\n"
   ]
  },
  {
   "cell_type": "code",
   "execution_count": null,
   "id": "445122d4-809d-43e5-b24b-5ad4053dc786",
   "metadata": {},
   "outputs": [],
   "source": []
  }
 ],
 "metadata": {
  "kernelspec": {
   "display_name": "Python 3 (ipykernel)",
   "language": "python",
   "name": "python3"
  },
  "language_info": {
   "codemirror_mode": {
    "name": "ipython",
    "version": 3
   },
   "file_extension": ".py",
   "mimetype": "text/x-python",
   "name": "python",
   "nbconvert_exporter": "python",
   "pygments_lexer": "ipython3",
   "version": "3.9.13"
  }
 },
 "nbformat": 4,
 "nbformat_minor": 5
}
